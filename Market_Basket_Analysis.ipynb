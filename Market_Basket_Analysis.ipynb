{
 "cells": [
  {
   "cell_type": "markdown",
   "metadata": {
    "id": "IjH6tdlwmeEA"
   },
   "source": [
    "## Market Basket Analysis on the [LinkedIn job skills](https://www.kaggle.com/datasets/asaniczka/1-3m-linkedin-jobs-and-skills-2024) dataset\n",
    "\n",
    "### Author: Adriano Meligrana"
   ]
  },
  {
   "cell_type": "code",
   "execution_count": 1,
   "metadata": {
    "colab": {
     "base_uri": "https://localhost:8080/"
    },
    "id": "yXCu13iiqA51",
    "outputId": "49632fb9-335b-45b7-fb04-9e3ba3be4fd1"
   },
   "outputs": [],
   "source": [
    "import os\n",
    "import pyspark"
   ]
  },
  {
   "cell_type": "code",
   "execution_count": 2,
   "metadata": {
    "colab": {
     "base_uri": "https://localhost:8080/"
    },
    "id": "OSwkCLwAhqTI",
    "outputId": "c938062c-2310-48c0-fc71-b98fb6ece8a8"
   },
   "outputs": [
    {
     "name": "stdout",
     "output_type": "stream",
     "text": [
      "/bin/bash: line 1: kaggle: command not found\n",
      "unzip:  cannot find or open 1-3m-linkedin-jobs-and-skills-2024.zip, 1-3m-linkedin-jobs-and-skills-2024.zip.zip or 1-3m-linkedin-jobs-and-skills-2024.zip.ZIP.\n"
     ]
    }
   ],
   "source": [
    "#logging in into Kaggle and downloading the dataset\n",
    "\n",
    "#kaggle enviroment\n",
    "os.environ['KAGGLE_USERNAME'] = \"xxxxxx\"\n",
    "os.environ['KAGGLE_KEY'] = \"xxxxxx\"\n",
    "\n",
    "#dataset download\n",
    "!kaggle datasets download -d asaniczka/1-3m-linkedin-jobs-and-skills-2024\n",
    "\n",
    "#dataset unzip\n",
    "!unzip 1-3m-linkedin-jobs-and-skills-2024.zip -d data"
   ]
  },
  {
   "cell_type": "code",
   "execution_count": 3,
   "metadata": {
    "colab": {
     "base_uri": "https://localhost:8080/"
    },
    "id": "rcq_ViKvoHZp",
    "outputId": "eba91a20-1ff7-4b30-88ed-331c74f828f7",
    "scrolled": true
   },
   "outputs": [
    {
     "name": "stderr",
     "output_type": "stream",
     "text": [
      "24/06/10 18:27:25 WARN Utils: Your hostname, bob-Victus-by-HP-Gaming-Laptop-15-fb0xxx resolves to a loopback address: 127.0.1.1; using 172.18.84.99 instead (on interface wlo1)\n",
      "24/06/10 18:27:25 WARN Utils: Set SPARK_LOCAL_IP if you need to bind to another address\n",
      "Setting default log level to \"WARN\".\n",
      "To adjust logging level use sc.setLogLevel(newLevel). For SparkR, use setLogLevel(newLevel).\n",
      "24/06/10 18:27:25 WARN NativeCodeLoader: Unable to load native-hadoop library for your platform... using builtin-java classes where applicable\n"
     ]
    },
    {
     "name": "stdout",
     "output_type": "stream",
     "text": [
      "+--------------------+--------------------+\n",
      "|            job_link|          job_skills|\n",
      "+--------------------+--------------------+\n",
      "|https://www.linke...|Building Custodia...|\n",
      "|https://www.linke...|Customer service,...|\n",
      "|https://www.linke...|Applied Behavior ...|\n",
      "|https://www.linke...|Electrical Engine...|\n",
      "|https://www.linke...|Electrical Assemb...|\n",
      "|https://www.linke...|Access Control, V...|\n",
      "|https://www.linke...|Consultation, Sup...|\n",
      "|https://www.linke...|Veterinary Recept...|\n",
      "|https://www.linke...|Optical Inspectio...|\n",
      "|https://www.linke...|HVAC, troubleshoo...|\n",
      "|https://www.linke...|Host/Server Assis...|\n",
      "|https://www.linke...|Apartment mainten...|\n",
      "|https://www.linke...|Fiber Optic Cable...|\n",
      "|https://www.linke...|CT Technologist, ...|\n",
      "|https://ca.linked...|SAP, DRMIS, Data ...|\n",
      "|https://www.linke...|Debt and equity o...|\n",
      "|https://ca.linked...|Biomedical Engine...|\n",
      "|https://www.linke...|Laboratory Techni...|\n",
      "|https://www.linke...|Program Managemen...|\n",
      "|https://www.linke...|Hiring, Training,...|\n",
      "+--------------------+--------------------+\n",
      "only showing top 20 rows\n",
      "\n"
     ]
    }
   ],
   "source": [
    "#creating the Spark session\n",
    "from pyspark.sql import SparkSession\n",
    "\n",
    "spark = SparkSession.builder\\\n",
    "    .master('local[*]') \\\n",
    "    .config(\"spark.driver.memory\", \"15g\") \\\n",
    "    .appName('apriori') \\\n",
    "    .getOrCreate()\n",
    "\n",
    "#importing the dataset into spark\n",
    "df = spark.read.csv(\"./job_skills.csv\", header=True, sep=\",\")\n",
    "df.show()"
   ]
  },
  {
   "cell_type": "code",
   "execution_count": 4,
   "metadata": {
    "colab": {
     "base_uri": "https://localhost:8080/"
    },
    "id": "_Z__4IYgEkTj",
    "outputId": "2ef0eb90-efd3-49ec-ac8e-61f1610f9f00"
   },
   "outputs": [
    {
     "name": "stdout",
     "output_type": "stream",
     "text": [
      "Dataset length: 1296381\n"
     ]
    },
    {
     "name": "stderr",
     "output_type": "stream",
     "text": [
      "                                                                                \r"
     ]
    },
    {
     "name": "stdout",
     "output_type": "stream",
     "text": [
      "number of dropped NA values: 2007\n"
     ]
    }
   ],
   "source": [
    "import gc\n",
    "from pyspark.sql import Row\n",
    "\n",
    "def preprocessing(row):\n",
    "    skills_str = row.job_skills.lower()\n",
    "    skills_str = skills_str.replace(\" capacities\", \"\")\n",
    "    skills_str = skills_str.replace(\" abilities\", \"\")\n",
    "    skills_str = skills_str.replace(\" skills\", \"\")\n",
    "    skills_str = skills_str.replace(\"decisionmaking\", \"decision making\")\n",
    "    skills_str = skills_str.replace(\"problemsolving\", \"problem solving\")\n",
    "    skills_str = skills_str.replace(\"teamwork\", \"team work\")\n",
    "    skills_str = skills_str.replace(\"problem-solving\", \"problem solving\")\n",
    "    skills = list(set(skills_str.split(\", \")))\n",
    "    row_dict = row.asDict()\n",
    "    row_dict['job_skills'] = skills\n",
    "    return Row(**row_dict)\n",
    "\n",
    "n = df.count()\n",
    "print(f\"Dataset length: {n}\")\n",
    "df = df.na.drop()\n",
    "print(f\"number of dropped NA values: {n - df.count()}\")\n",
    "df = df.drop(\"job_link\")\n",
    "df = df.rdd.map(lambda row: preprocessing(row)).toDF()\n",
    "df = df.repartition(6)"
   ]
  },
  {
   "cell_type": "markdown",
   "metadata": {
    "id": "5D4N2re6Kx22"
   },
   "source": [
    "### Implementation of the $\\mathrm{A}$-$\\mathrm{Priori}$ $\\mathrm{Algorithm}$"
   ]
  },
  {
   "cell_type": "code",
   "execution_count": 12,
   "metadata": {
    "id": "DTt-Ma94-rZ5"
   },
   "outputs": [],
   "source": [
    "from operator import add \n",
    "from itertools import combinations\n",
    "import timeit\n",
    "import pandas as pd\n",
    "import numpy as np\n",
    "import gc\n",
    "\n",
    "\"\"\"\n",
    "apriori(df, basket_col, support_threshold = 0.01, max_frequent = 5, sample_fraction = 0.1, seed = 42, cache = True, quiet = False)\n",
    "  \n",
    "  df              -> a PySpark DataFrame object containing baskets.\n",
    "  basket_col      -> the column of the dataframe containing baskets.\n",
    "  s_threshold     -> the percentage value of the support threshold, e.g. s = 1% -> s_threshold = 0.01.\n",
    "  max_frequent    -> the last set size of frequent itemsets to check, e.g. if last_frequent = 2, only singletons and pairs will be checked.\n",
    "  sample_fraction -> sample fraction of baskets which will be used to find frequent itemsets.\n",
    "  seed            -> seed used when sampling.\n",
    "  cache           -> if caching should be applied when running the algorithm.\n",
    "  quiet           -> decides If some information on the progression will be printed on screen.\n",
    "\"\"\"\n",
    "def apriori(df, basket_col, support_threshold = 0.01, max_frequent = 6, sample_fraction = 0.1, seed = 42, cache = True, quiet = False):\n",
    "\n",
    "  if sample_fraction != 1:\n",
    "      df = df.sample(False, fraction = sample_fraction, seed = seed)\n",
    "\n",
    "  rdd = df.rdd.map(lambda row: row[basket_col])\n",
    "  size = rdd.count()\n",
    "  support = int(size*support_threshold) + 1\n",
    "  uniques = {e: i for i, e in enumerate(set(item for basket in rdd.collect() for item in basket))}\n",
    "  uniques_vec = list(uniques.keys())\n",
    "  rdd = rdd.map(lambda basket: [uniques[item] for item in basket])\n",
    "      \n",
    "  frequent_items_dfs = []\n",
    "  for i in range(max_frequent):\n",
    "    if not quiet: print(f\"Checking frequent sets of {i+1} elements\")\n",
    "      \n",
    "    t0 = timeit.default_timer()\n",
    "\n",
    "    frequent_items_values = None\n",
    "    gc.collect()\n",
    "      \n",
    "    if i != 0:\n",
    "        rdd = rdd.map(lambda basket: compute_frequents(basket, frequent_items, i))\n",
    "        rdd = rdd.filter(lambda basket: len(basket) > i)\n",
    "        if cache: rdd = rdd.persist()\n",
    "\n",
    "    n_pass = rdd.flatMap(lambda basket: ((items, 1) for items in combinations(basket, i+1))).persist()\n",
    "    n_pass = n_pass.reduceByKey(add)\n",
    "    n_pass = n_pass.filter(lambda key_value: key_value[1] >= support)\n",
    "\n",
    "    frequent_items_values = n_pass.collect()\n",
    "    frequent_items = set(key_values[0] for key_values in frequent_items_values)\n",
    "    frequent_items_values = sorted(frequent_items_values, key = lambda key_values: key_values[1], reverse = True)\n",
    "    frequent_items_values = [(*[uniques_vec[k] for k in kv[0]], kv[1]) for kv in frequent_items_values]\n",
    "    fdf = pd.DataFrame.from_records(frequent_items_values, columns=[*[f'item_{s+1}' for s in range(i+1)], \"frequency\"])\n",
    "    frequent_items_dfs.append(fdf)\n",
    "\n",
    "    t1 = timeit.default_timer()\n",
    "\n",
    "    if not quiet: \n",
    "        print(f\"Step number {i+1} completed in {round(t1-t0, 2)} seconds.\")\n",
    "        print(f\"Number of frequent sets of {i+1} elements: {len(frequent_items_values)}\\n\")\n",
    "        display(fdf)\n",
    "    \n",
    "  return frequent_items_dfs\n",
    "\n",
    "def compute_frequents(basket, frequent_items, i):\n",
    "    new_basket = set()\n",
    "    for items in combinations(basket, i):\n",
    "        if items in frequent_items:\n",
    "            for item in items:\n",
    "                if item not in new_basket:\n",
    "                    new_basket.add(item)\n",
    "    return sorted(new_basket)"
   ]
  },
  {
   "cell_type": "code",
   "execution_count": 17,
   "metadata": {
    "colab": {
     "base_uri": "https://localhost:8080/"
    },
    "id": "h7Rm4Sww_QC8",
    "outputId": "2ae50c72-7a79-4cab-82d4-751dfbec7025",
    "scrolled": true
   },
   "outputs": [
    {
     "name": "stderr",
     "output_type": "stream",
     "text": [
      "                                                                                \r"
     ]
    },
    {
     "name": "stdout",
     "output_type": "stream",
     "text": [
      "Checking frequent sets of 1 elements\n"
     ]
    },
    {
     "name": "stderr",
     "output_type": "stream",
     "text": [
      "[Stage 197:===============================================>         (5 + 1) / 6]\r"
     ]
    },
    {
     "name": "stdout",
     "output_type": "stream",
     "text": [
      "Step number 1 completed in 18.32 seconds.\n",
      "Number of frequent sets of 1 elements: 186\n",
      "\n"
     ]
    },
    {
     "name": "stderr",
     "output_type": "stream",
     "text": [
      "                                                                                \r"
     ]
    },
    {
     "data": {
      "text/html": [
       "<div>\n",
       "<style scoped>\n",
       "    .dataframe tbody tr th:only-of-type {\n",
       "        vertical-align: middle;\n",
       "    }\n",
       "\n",
       "    .dataframe tbody tr th {\n",
       "        vertical-align: top;\n",
       "    }\n",
       "\n",
       "    .dataframe thead th {\n",
       "        text-align: right;\n",
       "    }\n",
       "</style>\n",
       "<table border=\"1\" class=\"dataframe\">\n",
       "  <thead>\n",
       "    <tr style=\"text-align: right;\">\n",
       "      <th></th>\n",
       "      <th>item_1</th>\n",
       "      <th>frequency</th>\n",
       "    </tr>\n",
       "  </thead>\n",
       "  <tbody>\n",
       "    <tr>\n",
       "      <th>0</th>\n",
       "      <td>communication</td>\n",
       "      <td>556216</td>\n",
       "    </tr>\n",
       "    <tr>\n",
       "      <th>1</th>\n",
       "      <td>problem solving</td>\n",
       "      <td>316069</td>\n",
       "    </tr>\n",
       "    <tr>\n",
       "      <th>2</th>\n",
       "      <td>customer service</td>\n",
       "      <td>290004</td>\n",
       "    </tr>\n",
       "    <tr>\n",
       "      <th>3</th>\n",
       "      <td>team work</td>\n",
       "      <td>251963</td>\n",
       "    </tr>\n",
       "    <tr>\n",
       "      <th>4</th>\n",
       "      <td>leadership</td>\n",
       "      <td>205542</td>\n",
       "    </tr>\n",
       "    <tr>\n",
       "      <th>...</th>\n",
       "      <td>...</td>\n",
       "      <td>...</td>\n",
       "    </tr>\n",
       "    <tr>\n",
       "      <th>181</th>\n",
       "      <td>english</td>\n",
       "      <td>13403</td>\n",
       "    </tr>\n",
       "    <tr>\n",
       "      <th>182</th>\n",
       "      <td>rn license</td>\n",
       "      <td>13361</td>\n",
       "    </tr>\n",
       "    <tr>\n",
       "      <th>183</th>\n",
       "      <td>ethics</td>\n",
       "      <td>13102</td>\n",
       "    </tr>\n",
       "    <tr>\n",
       "      <th>184</th>\n",
       "      <td>travel nursing</td>\n",
       "      <td>13004</td>\n",
       "    </tr>\n",
       "    <tr>\n",
       "      <th>185</th>\n",
       "      <td>report writing</td>\n",
       "      <td>12991</td>\n",
       "    </tr>\n",
       "  </tbody>\n",
       "</table>\n",
       "<p>186 rows × 2 columns</p>\n",
       "</div>"
      ],
      "text/plain": [
       "               item_1  frequency\n",
       "0       communication     556216\n",
       "1     problem solving     316069\n",
       "2    customer service     290004\n",
       "3           team work     251963\n",
       "4          leadership     205542\n",
       "..                ...        ...\n",
       "181           english      13403\n",
       "182        rn license      13361\n",
       "183            ethics      13102\n",
       "184    travel nursing      13004\n",
       "185    report writing      12991\n",
       "\n",
       "[186 rows x 2 columns]"
      ]
     },
     "metadata": {},
     "output_type": "display_data"
    },
    {
     "name": "stdout",
     "output_type": "stream",
     "text": [
      "Checking frequent sets of 2 elements\n"
     ]
    },
    {
     "name": "stderr",
     "output_type": "stream",
     "text": [
      "[Stage 200:======================================>                  (4 + 2) / 6]\r"
     ]
    },
    {
     "name": "stdout",
     "output_type": "stream",
     "text": [
      "Step number 2 completed in 15.46 seconds.\n",
      "Number of frequent sets of 2 elements: 298\n",
      "\n"
     ]
    },
    {
     "name": "stderr",
     "output_type": "stream",
     "text": [
      "                                                                                \r"
     ]
    },
    {
     "data": {
      "text/html": [
       "<div>\n",
       "<style scoped>\n",
       "    .dataframe tbody tr th:only-of-type {\n",
       "        vertical-align: middle;\n",
       "    }\n",
       "\n",
       "    .dataframe tbody tr th {\n",
       "        vertical-align: top;\n",
       "    }\n",
       "\n",
       "    .dataframe thead th {\n",
       "        text-align: right;\n",
       "    }\n",
       "</style>\n",
       "<table border=\"1\" class=\"dataframe\">\n",
       "  <thead>\n",
       "    <tr style=\"text-align: right;\">\n",
       "      <th></th>\n",
       "      <th>item_1</th>\n",
       "      <th>item_2</th>\n",
       "      <th>frequency</th>\n",
       "    </tr>\n",
       "  </thead>\n",
       "  <tbody>\n",
       "    <tr>\n",
       "      <th>0</th>\n",
       "      <td>communication</td>\n",
       "      <td>problem solving</td>\n",
       "      <td>257218</td>\n",
       "    </tr>\n",
       "    <tr>\n",
       "      <th>1</th>\n",
       "      <td>team work</td>\n",
       "      <td>communication</td>\n",
       "      <td>200249</td>\n",
       "    </tr>\n",
       "    <tr>\n",
       "      <th>2</th>\n",
       "      <td>communication</td>\n",
       "      <td>customer service</td>\n",
       "      <td>195320</td>\n",
       "    </tr>\n",
       "    <tr>\n",
       "      <th>3</th>\n",
       "      <td>communication</td>\n",
       "      <td>leadership</td>\n",
       "      <td>151171</td>\n",
       "    </tr>\n",
       "    <tr>\n",
       "      <th>4</th>\n",
       "      <td>team work</td>\n",
       "      <td>problem solving</td>\n",
       "      <td>142269</td>\n",
       "    </tr>\n",
       "    <tr>\n",
       "      <th>...</th>\n",
       "      <td>...</td>\n",
       "      <td>...</td>\n",
       "      <td>...</td>\n",
       "    </tr>\n",
       "    <tr>\n",
       "      <th>293</th>\n",
       "      <td>time management</td>\n",
       "      <td>microsoft office</td>\n",
       "      <td>13029</td>\n",
       "    </tr>\n",
       "    <tr>\n",
       "      <th>294</th>\n",
       "      <td>attention to detail</td>\n",
       "      <td>decision making</td>\n",
       "      <td>13005</td>\n",
       "    </tr>\n",
       "    <tr>\n",
       "      <th>295</th>\n",
       "      <td>budget management</td>\n",
       "      <td>communication</td>\n",
       "      <td>13004</td>\n",
       "    </tr>\n",
       "    <tr>\n",
       "      <th>296</th>\n",
       "      <td>planning</td>\n",
       "      <td>problem solving</td>\n",
       "      <td>12984</td>\n",
       "    </tr>\n",
       "    <tr>\n",
       "      <th>297</th>\n",
       "      <td>high school diploma</td>\n",
       "      <td>sales</td>\n",
       "      <td>12976</td>\n",
       "    </tr>\n",
       "  </tbody>\n",
       "</table>\n",
       "<p>298 rows × 3 columns</p>\n",
       "</div>"
      ],
      "text/plain": [
       "                  item_1            item_2  frequency\n",
       "0          communication   problem solving     257218\n",
       "1              team work     communication     200249\n",
       "2          communication  customer service     195320\n",
       "3          communication        leadership     151171\n",
       "4              team work   problem solving     142269\n",
       "..                   ...               ...        ...\n",
       "293      time management  microsoft office      13029\n",
       "294  attention to detail   decision making      13005\n",
       "295    budget management     communication      13004\n",
       "296             planning   problem solving      12984\n",
       "297  high school diploma             sales      12976\n",
       "\n",
       "[298 rows x 3 columns]"
      ]
     },
     "metadata": {},
     "output_type": "display_data"
    },
    {
     "name": "stdout",
     "output_type": "stream",
     "text": [
      "Checking frequent sets of 3 elements\n"
     ]
    },
    {
     "name": "stderr",
     "output_type": "stream",
     "text": [
      "[Stage 203:===============================================>         (5 + 1) / 6]\r"
     ]
    },
    {
     "name": "stdout",
     "output_type": "stream",
     "text": [
      "Step number 3 completed in 13.83 seconds.\n",
      "Number of frequent sets of 3 elements: 235\n",
      "\n"
     ]
    },
    {
     "name": "stderr",
     "output_type": "stream",
     "text": [
      "                                                                                \r"
     ]
    },
    {
     "data": {
      "text/html": [
       "<div>\n",
       "<style scoped>\n",
       "    .dataframe tbody tr th:only-of-type {\n",
       "        vertical-align: middle;\n",
       "    }\n",
       "\n",
       "    .dataframe tbody tr th {\n",
       "        vertical-align: top;\n",
       "    }\n",
       "\n",
       "    .dataframe thead th {\n",
       "        text-align: right;\n",
       "    }\n",
       "</style>\n",
       "<table border=\"1\" class=\"dataframe\">\n",
       "  <thead>\n",
       "    <tr style=\"text-align: right;\">\n",
       "      <th></th>\n",
       "      <th>item_1</th>\n",
       "      <th>item_2</th>\n",
       "      <th>item_3</th>\n",
       "      <th>frequency</th>\n",
       "    </tr>\n",
       "  </thead>\n",
       "  <tbody>\n",
       "    <tr>\n",
       "      <th>0</th>\n",
       "      <td>team work</td>\n",
       "      <td>communication</td>\n",
       "      <td>problem solving</td>\n",
       "      <td>128920</td>\n",
       "    </tr>\n",
       "    <tr>\n",
       "      <th>1</th>\n",
       "      <td>communication</td>\n",
       "      <td>customer service</td>\n",
       "      <td>problem solving</td>\n",
       "      <td>105967</td>\n",
       "    </tr>\n",
       "    <tr>\n",
       "      <th>2</th>\n",
       "      <td>communication</td>\n",
       "      <td>leadership</td>\n",
       "      <td>problem solving</td>\n",
       "      <td>93025</td>\n",
       "    </tr>\n",
       "    <tr>\n",
       "      <th>3</th>\n",
       "      <td>team work</td>\n",
       "      <td>communication</td>\n",
       "      <td>customer service</td>\n",
       "      <td>87327</td>\n",
       "    </tr>\n",
       "    <tr>\n",
       "      <th>4</th>\n",
       "      <td>communication</td>\n",
       "      <td>time management</td>\n",
       "      <td>problem solving</td>\n",
       "      <td>83301</td>\n",
       "    </tr>\n",
       "    <tr>\n",
       "      <th>...</th>\n",
       "      <td>...</td>\n",
       "      <td>...</td>\n",
       "      <td>...</td>\n",
       "      <td>...</td>\n",
       "    </tr>\n",
       "    <tr>\n",
       "      <th>230</th>\n",
       "      <td>troubleshooting</td>\n",
       "      <td>communication</td>\n",
       "      <td>problem solving</td>\n",
       "      <td>13031</td>\n",
       "    </tr>\n",
       "    <tr>\n",
       "      <th>231</th>\n",
       "      <td>team work</td>\n",
       "      <td>leadership</td>\n",
       "      <td>adaptability</td>\n",
       "      <td>13023</td>\n",
       "    </tr>\n",
       "    <tr>\n",
       "      <th>232</th>\n",
       "      <td>communication</td>\n",
       "      <td>project management</td>\n",
       "      <td>analytical</td>\n",
       "      <td>12999</td>\n",
       "    </tr>\n",
       "    <tr>\n",
       "      <th>233</th>\n",
       "      <td>patient care</td>\n",
       "      <td>communication</td>\n",
       "      <td>leadership</td>\n",
       "      <td>12956</td>\n",
       "    </tr>\n",
       "    <tr>\n",
       "      <th>234</th>\n",
       "      <td>team work</td>\n",
       "      <td>critical thinking</td>\n",
       "      <td>time management</td>\n",
       "      <td>12951</td>\n",
       "    </tr>\n",
       "  </tbody>\n",
       "</table>\n",
       "<p>235 rows × 4 columns</p>\n",
       "</div>"
      ],
      "text/plain": [
       "              item_1              item_2            item_3  frequency\n",
       "0          team work       communication   problem solving     128920\n",
       "1      communication    customer service   problem solving     105967\n",
       "2      communication          leadership   problem solving      93025\n",
       "3          team work       communication  customer service      87327\n",
       "4      communication     time management   problem solving      83301\n",
       "..               ...                 ...               ...        ...\n",
       "230  troubleshooting       communication   problem solving      13031\n",
       "231        team work          leadership      adaptability      13023\n",
       "232    communication  project management        analytical      12999\n",
       "233     patient care       communication        leadership      12956\n",
       "234        team work   critical thinking   time management      12951\n",
       "\n",
       "[235 rows x 4 columns]"
      ]
     },
     "metadata": {},
     "output_type": "display_data"
    },
    {
     "name": "stdout",
     "output_type": "stream",
     "text": [
      "Checking frequent sets of 4 elements\n"
     ]
    },
    {
     "name": "stderr",
     "output_type": "stream",
     "text": [
      "[Stage 206:======================================>                  (4 + 2) / 6]\r"
     ]
    },
    {
     "name": "stdout",
     "output_type": "stream",
     "text": [
      "Step number 4 completed in 12.72 seconds.\n",
      "Number of frequent sets of 4 elements: 84\n",
      "\n"
     ]
    },
    {
     "name": "stderr",
     "output_type": "stream",
     "text": [
      "                                                                                \r"
     ]
    },
    {
     "data": {
      "text/html": [
       "<div>\n",
       "<style scoped>\n",
       "    .dataframe tbody tr th:only-of-type {\n",
       "        vertical-align: middle;\n",
       "    }\n",
       "\n",
       "    .dataframe tbody tr th {\n",
       "        vertical-align: top;\n",
       "    }\n",
       "\n",
       "    .dataframe thead th {\n",
       "        text-align: right;\n",
       "    }\n",
       "</style>\n",
       "<table border=\"1\" class=\"dataframe\">\n",
       "  <thead>\n",
       "    <tr style=\"text-align: right;\">\n",
       "      <th></th>\n",
       "      <th>item_1</th>\n",
       "      <th>item_2</th>\n",
       "      <th>item_3</th>\n",
       "      <th>item_4</th>\n",
       "      <th>frequency</th>\n",
       "    </tr>\n",
       "  </thead>\n",
       "  <tbody>\n",
       "    <tr>\n",
       "      <th>0</th>\n",
       "      <td>team work</td>\n",
       "      <td>communication</td>\n",
       "      <td>customer service</td>\n",
       "      <td>problem solving</td>\n",
       "      <td>59328</td>\n",
       "    </tr>\n",
       "    <tr>\n",
       "      <th>1</th>\n",
       "      <td>team work</td>\n",
       "      <td>communication</td>\n",
       "      <td>leadership</td>\n",
       "      <td>problem solving</td>\n",
       "      <td>50491</td>\n",
       "    </tr>\n",
       "    <tr>\n",
       "      <th>2</th>\n",
       "      <td>team work</td>\n",
       "      <td>communication</td>\n",
       "      <td>time management</td>\n",
       "      <td>problem solving</td>\n",
       "      <td>50170</td>\n",
       "    </tr>\n",
       "    <tr>\n",
       "      <th>3</th>\n",
       "      <td>attention to detail</td>\n",
       "      <td>team work</td>\n",
       "      <td>communication</td>\n",
       "      <td>problem solving</td>\n",
       "      <td>46984</td>\n",
       "    </tr>\n",
       "    <tr>\n",
       "      <th>4</th>\n",
       "      <td>communication</td>\n",
       "      <td>leadership</td>\n",
       "      <td>customer service</td>\n",
       "      <td>problem solving</td>\n",
       "      <td>40666</td>\n",
       "    </tr>\n",
       "    <tr>\n",
       "      <th>...</th>\n",
       "      <td>...</td>\n",
       "      <td>...</td>\n",
       "      <td>...</td>\n",
       "      <td>...</td>\n",
       "      <td>...</td>\n",
       "    </tr>\n",
       "    <tr>\n",
       "      <th>79</th>\n",
       "      <td>team work</td>\n",
       "      <td>leadership</td>\n",
       "      <td>customer service</td>\n",
       "      <td>time management</td>\n",
       "      <td>13208</td>\n",
       "    </tr>\n",
       "    <tr>\n",
       "      <th>80</th>\n",
       "      <td>team work</td>\n",
       "      <td>communication</td>\n",
       "      <td>adaptability</td>\n",
       "      <td>time management</td>\n",
       "      <td>13196</td>\n",
       "    </tr>\n",
       "    <tr>\n",
       "      <th>81</th>\n",
       "      <td>team work</td>\n",
       "      <td>communication</td>\n",
       "      <td>problem solving</td>\n",
       "      <td>analytical</td>\n",
       "      <td>13157</td>\n",
       "    </tr>\n",
       "    <tr>\n",
       "      <th>82</th>\n",
       "      <td>critical thinking</td>\n",
       "      <td>communication</td>\n",
       "      <td>leadership</td>\n",
       "      <td>problem solving</td>\n",
       "      <td>12966</td>\n",
       "    </tr>\n",
       "    <tr>\n",
       "      <th>83</th>\n",
       "      <td>multitasking</td>\n",
       "      <td>communication</td>\n",
       "      <td>customer service</td>\n",
       "      <td>problem solving</td>\n",
       "      <td>12958</td>\n",
       "    </tr>\n",
       "  </tbody>\n",
       "</table>\n",
       "<p>84 rows × 5 columns</p>\n",
       "</div>"
      ],
      "text/plain": [
       "                 item_1         item_2            item_3           item_4  \\\n",
       "0             team work  communication  customer service  problem solving   \n",
       "1             team work  communication        leadership  problem solving   \n",
       "2             team work  communication   time management  problem solving   \n",
       "3   attention to detail      team work     communication  problem solving   \n",
       "4         communication     leadership  customer service  problem solving   \n",
       "..                  ...            ...               ...              ...   \n",
       "79            team work     leadership  customer service  time management   \n",
       "80            team work  communication      adaptability  time management   \n",
       "81            team work  communication   problem solving       analytical   \n",
       "82    critical thinking  communication        leadership  problem solving   \n",
       "83         multitasking  communication  customer service  problem solving   \n",
       "\n",
       "    frequency  \n",
       "0       59328  \n",
       "1       50491  \n",
       "2       50170  \n",
       "3       46984  \n",
       "4       40666  \n",
       "..        ...  \n",
       "79      13208  \n",
       "80      13196  \n",
       "81      13157  \n",
       "82      12966  \n",
       "83      12958  \n",
       "\n",
       "[84 rows x 5 columns]"
      ]
     },
     "metadata": {},
     "output_type": "display_data"
    },
    {
     "name": "stdout",
     "output_type": "stream",
     "text": [
      "Checking frequent sets of 5 elements\n"
     ]
    },
    {
     "name": "stderr",
     "output_type": "stream",
     "text": [
      "[Stage 209:=========>                                               (1 + 5) / 6]\r"
     ]
    },
    {
     "name": "stdout",
     "output_type": "stream",
     "text": [
      "Step number 5 completed in 4.91 seconds.\n",
      "Number of frequent sets of 5 elements: 12\n",
      "\n"
     ]
    },
    {
     "name": "stderr",
     "output_type": "stream",
     "text": [
      "                                                                                \r"
     ]
    },
    {
     "data": {
      "text/html": [
       "<div>\n",
       "<style scoped>\n",
       "    .dataframe tbody tr th:only-of-type {\n",
       "        vertical-align: middle;\n",
       "    }\n",
       "\n",
       "    .dataframe tbody tr th {\n",
       "        vertical-align: top;\n",
       "    }\n",
       "\n",
       "    .dataframe thead th {\n",
       "        text-align: right;\n",
       "    }\n",
       "</style>\n",
       "<table border=\"1\" class=\"dataframe\">\n",
       "  <thead>\n",
       "    <tr style=\"text-align: right;\">\n",
       "      <th></th>\n",
       "      <th>item_1</th>\n",
       "      <th>item_2</th>\n",
       "      <th>item_3</th>\n",
       "      <th>item_4</th>\n",
       "      <th>item_5</th>\n",
       "      <th>frequency</th>\n",
       "    </tr>\n",
       "  </thead>\n",
       "  <tbody>\n",
       "    <tr>\n",
       "      <th>0</th>\n",
       "      <td>attention to detail</td>\n",
       "      <td>team work</td>\n",
       "      <td>communication</td>\n",
       "      <td>customer service</td>\n",
       "      <td>problem solving</td>\n",
       "      <td>24399</td>\n",
       "    </tr>\n",
       "    <tr>\n",
       "      <th>1</th>\n",
       "      <td>team work</td>\n",
       "      <td>communication</td>\n",
       "      <td>customer service</td>\n",
       "      <td>time management</td>\n",
       "      <td>problem solving</td>\n",
       "      <td>24283</td>\n",
       "    </tr>\n",
       "    <tr>\n",
       "      <th>2</th>\n",
       "      <td>attention to detail</td>\n",
       "      <td>team work</td>\n",
       "      <td>communication</td>\n",
       "      <td>time management</td>\n",
       "      <td>problem solving</td>\n",
       "      <td>24177</td>\n",
       "    </tr>\n",
       "    <tr>\n",
       "      <th>3</th>\n",
       "      <td>team work</td>\n",
       "      <td>communication</td>\n",
       "      <td>leadership</td>\n",
       "      <td>customer service</td>\n",
       "      <td>problem solving</td>\n",
       "      <td>24096</td>\n",
       "    </tr>\n",
       "    <tr>\n",
       "      <th>4</th>\n",
       "      <td>team work</td>\n",
       "      <td>communication</td>\n",
       "      <td>leadership</td>\n",
       "      <td>time management</td>\n",
       "      <td>problem solving</td>\n",
       "      <td>21844</td>\n",
       "    </tr>\n",
       "    <tr>\n",
       "      <th>5</th>\n",
       "      <td>attention to detail</td>\n",
       "      <td>communication</td>\n",
       "      <td>customer service</td>\n",
       "      <td>time management</td>\n",
       "      <td>problem solving</td>\n",
       "      <td>18255</td>\n",
       "    </tr>\n",
       "    <tr>\n",
       "      <th>6</th>\n",
       "      <td>communication</td>\n",
       "      <td>leadership</td>\n",
       "      <td>customer service</td>\n",
       "      <td>time management</td>\n",
       "      <td>problem solving</td>\n",
       "      <td>17656</td>\n",
       "    </tr>\n",
       "    <tr>\n",
       "      <th>7</th>\n",
       "      <td>team work</td>\n",
       "      <td>communication</td>\n",
       "      <td>customer service</td>\n",
       "      <td>sales</td>\n",
       "      <td>problem solving</td>\n",
       "      <td>16568</td>\n",
       "    </tr>\n",
       "    <tr>\n",
       "      <th>8</th>\n",
       "      <td>attention to detail</td>\n",
       "      <td>team work</td>\n",
       "      <td>communication</td>\n",
       "      <td>leadership</td>\n",
       "      <td>problem solving</td>\n",
       "      <td>16006</td>\n",
       "    </tr>\n",
       "    <tr>\n",
       "      <th>9</th>\n",
       "      <td>attention to detail</td>\n",
       "      <td>team work</td>\n",
       "      <td>communication</td>\n",
       "      <td>customer service</td>\n",
       "      <td>time management</td>\n",
       "      <td>14807</td>\n",
       "    </tr>\n",
       "    <tr>\n",
       "      <th>10</th>\n",
       "      <td>attention to detail</td>\n",
       "      <td>team work</td>\n",
       "      <td>customer service</td>\n",
       "      <td>time management</td>\n",
       "      <td>problem solving</td>\n",
       "      <td>13938</td>\n",
       "    </tr>\n",
       "    <tr>\n",
       "      <th>11</th>\n",
       "      <td>attention to detail</td>\n",
       "      <td>communication</td>\n",
       "      <td>leadership</td>\n",
       "      <td>time management</td>\n",
       "      <td>problem solving</td>\n",
       "      <td>13451</td>\n",
       "    </tr>\n",
       "  </tbody>\n",
       "</table>\n",
       "</div>"
      ],
      "text/plain": [
       "                 item_1         item_2            item_3            item_4  \\\n",
       "0   attention to detail      team work     communication  customer service   \n",
       "1             team work  communication  customer service   time management   \n",
       "2   attention to detail      team work     communication   time management   \n",
       "3             team work  communication        leadership  customer service   \n",
       "4             team work  communication        leadership   time management   \n",
       "5   attention to detail  communication  customer service   time management   \n",
       "6         communication     leadership  customer service   time management   \n",
       "7             team work  communication  customer service             sales   \n",
       "8   attention to detail      team work     communication        leadership   \n",
       "9   attention to detail      team work     communication  customer service   \n",
       "10  attention to detail      team work  customer service   time management   \n",
       "11  attention to detail  communication        leadership   time management   \n",
       "\n",
       "             item_5  frequency  \n",
       "0   problem solving      24399  \n",
       "1   problem solving      24283  \n",
       "2   problem solving      24177  \n",
       "3   problem solving      24096  \n",
       "4   problem solving      21844  \n",
       "5   problem solving      18255  \n",
       "6   problem solving      17656  \n",
       "7   problem solving      16568  \n",
       "8   problem solving      16006  \n",
       "9   time management      14807  \n",
       "10  problem solving      13938  \n",
       "11  problem solving      13451  "
      ]
     },
     "metadata": {},
     "output_type": "display_data"
    },
    {
     "name": "stdout",
     "output_type": "stream",
     "text": [
      "Checking frequent sets of 6 elements\n",
      "Step number 6 completed in 0.72 seconds.\n",
      "Number of frequent sets of 6 elements: 1\n",
      "\n"
     ]
    },
    {
     "data": {
      "text/html": [
       "<div>\n",
       "<style scoped>\n",
       "    .dataframe tbody tr th:only-of-type {\n",
       "        vertical-align: middle;\n",
       "    }\n",
       "\n",
       "    .dataframe tbody tr th {\n",
       "        vertical-align: top;\n",
       "    }\n",
       "\n",
       "    .dataframe thead th {\n",
       "        text-align: right;\n",
       "    }\n",
       "</style>\n",
       "<table border=\"1\" class=\"dataframe\">\n",
       "  <thead>\n",
       "    <tr style=\"text-align: right;\">\n",
       "      <th></th>\n",
       "      <th>item_1</th>\n",
       "      <th>item_2</th>\n",
       "      <th>item_3</th>\n",
       "      <th>item_4</th>\n",
       "      <th>item_5</th>\n",
       "      <th>item_6</th>\n",
       "      <th>frequency</th>\n",
       "    </tr>\n",
       "  </thead>\n",
       "  <tbody>\n",
       "    <tr>\n",
       "      <th>0</th>\n",
       "      <td>attention to detail</td>\n",
       "      <td>team work</td>\n",
       "      <td>communication</td>\n",
       "      <td>customer service</td>\n",
       "      <td>time management</td>\n",
       "      <td>problem solving</td>\n",
       "      <td>13192</td>\n",
       "    </tr>\n",
       "  </tbody>\n",
       "</table>\n",
       "</div>"
      ],
      "text/plain": [
       "                item_1     item_2         item_3            item_4  \\\n",
       "0  attention to detail  team work  communication  customer service   \n",
       "\n",
       "            item_5           item_6  frequency  \n",
       "0  time management  problem solving      13192  "
      ]
     },
     "metadata": {},
     "output_type": "display_data"
    },
    {
     "name": "stdout",
     "output_type": "stream",
     "text": [
      "CPU times: user 11.8 s, sys: 1.68 s, total: 13.5 s\n",
      "Wall time: 1min 24s\n"
     ]
    }
   ],
   "source": [
    "%%time\n",
    "# we managed to run the algorithm on all the data with a computer having 16gb of RAM in ~60 seconds\n",
    "results = apriori(df, \"job_skills\", support_threshold=0.01, max_frequent=6, sample_fraction=1, seed=42, cache=True, quiet = False)"
   ]
  },
  {
   "cell_type": "code",
   "execution_count": 15,
   "metadata": {},
   "outputs": [
    {
     "name": "stderr",
     "output_type": "stream",
     "text": [
      "                                                                                \r"
     ]
    },
    {
     "name": "stdout",
     "output_type": "stream",
     "text": [
      "CPU times: user 484 ms, sys: 17.1 ms, total: 501 ms\n",
      "Wall time: 11 s\n"
     ]
    }
   ],
   "source": [
    "%%time\n",
    "results = apriori(df, \"job_skills\", support_threshold=0.01, max_frequent=6, sample_fraction=0.02, seed=42, cache=True, quiet = True)"
   ]
  },
  {
   "cell_type": "code",
   "execution_count": null,
   "metadata": {},
   "outputs": [],
   "source": []
  },
  {
   "cell_type": "code",
   "execution_count": null,
   "metadata": {},
   "outputs": [],
   "source": []
  },
  {
   "cell_type": "code",
   "execution_count": null,
   "metadata": {},
   "outputs": [],
   "source": []
  },
  {
   "cell_type": "code",
   "execution_count": null,
   "metadata": {},
   "outputs": [],
   "source": []
  }
 ],
 "metadata": {
  "colab": {
   "authorship_tag": "ABX9TyOvngheGehM/mvvJDLGEqBt",
   "include_colab_link": true,
   "provenance": []
  },
  "kernelspec": {
   "display_name": "Python 3 (ipykernel)",
   "language": "python",
   "name": "python3"
  },
  "language_info": {
   "codemirror_mode": {
    "name": "ipython",
    "version": 3
   },
   "file_extension": ".py",
   "mimetype": "text/x-python",
   "name": "python",
   "nbconvert_exporter": "python",
   "pygments_lexer": "ipython3",
   "version": "3.10.12"
  }
 },
 "nbformat": 4,
 "nbformat_minor": 4
}
